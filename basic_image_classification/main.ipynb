{
 "cells": [
  {
   "cell_type": "code",
   "execution_count": 1,
   "id": "a8f0d84c",
   "metadata": {},
   "outputs": [],
   "source": [
    "import torch\n",
    "import torchvision\n",
    "from torch.utils.data import DataLoader, Dataset\n",
    "from torchvision.datasets import *\n",
    "import numpy as np\n",
    "import random\n",
    "import torchvision.transforms as transforms\n",
    "import torch.nn as nn\n",
    "from tqdm import tqdm\n",
    "import timm\n",
    "import albumentations as A\n",
    "from sklearn.model_selection import KFold\n",
    "import cv2\n",
    "import os\n",
    "from glob import glob\n",
    "from albumentations.pytorch import ToTensorV2\n",
    "import torch.optim as optim"
   ]
  },
  {
   "cell_type": "code",
   "execution_count": 2,
   "id": "c1bfa3d4",
   "metadata": {},
   "outputs": [],
   "source": [
    "from torch.utils.data.sampler import SubsetRandomSampler"
   ]
  },
  {
   "cell_type": "code",
   "execution_count": 3,
   "id": "889a2256",
   "metadata": {},
   "outputs": [],
   "source": [
    "random_seed = 1120\n",
    "torch.manual_seed(random_seed)\n",
    "torch.cuda.manual_seed(random_seed)\n",
    "torch.cuda.manual_seed_all(random_seed)  # if use multi-GPU\n",
    "torch.backends.cudnn.deterministic = True\n",
    "torch.backends.cudnn.benchmark = False\n",
    "np.random.seed(random_seed)\n",
    "random.seed(random_seed)"
   ]
  },
  {
   "cell_type": "code",
   "execution_count": 4,
   "id": "910a4482",
   "metadata": {},
   "outputs": [],
   "source": [
    "# transform = transforms.Compose([\n",
    "#     transforms.Resize((224,224)),\n",
    "#     transforms.GaussianBlur(7),\n",
    "#     transforms.RandomHorizontalFlip(p=0.2),\n",
    "#     transforms.RandomVerticalFlip(p=0.2),\n",
    "#     transforms.ToTensor(),\n",
    "#     transforms.Normalize((0.5,0.5,0.5),(0.224,0.224,0.224))\n",
    "# ])\n",
    "\n",
    "\n",
    "transform = A.Compose([\n",
    "    A.Resize(224,224),\n",
    "#     A.GaussNoise(p=0.1),\n",
    "#     A.HorizontalFlip(p=0.2),\n",
    "#     A.ColorJitter(),\n",
    "    A.Normalize(),\n",
    "    ToTensorV2(),\n",
    "])\n",
    "valt=A.Compose([\n",
    "  A.Resize(224,224),\n",
    "    A.Normalize(),\n",
    "    ToTensorV2(),\n",
    "])\n",
    "\n",
    "# RandomResizeCrop\n",
    "# Random GaussianNoise\n",
    "# color jitter -> b/s/h/c  0.2 ~ 3  ||  128\n",
    "# RandomHorzital"
   ]
  },
  {
   "cell_type": "code",
   "execution_count": 5,
   "id": "f7c7e19b",
   "metadata": {},
   "outputs": [],
   "source": [
    "cnt=0\n",
    "ctoi={k : idx for idx,k in enumerate(os.listdir('/media/data2/rjsdn/dacon/basic_image_classification/train'))}\n",
    "itoc = {v: k for k, v in ctoi.items()}"
   ]
  },
  {
   "cell_type": "code",
   "execution_count": 6,
   "id": "2f2b3769",
   "metadata": {},
   "outputs": [
    {
     "data": {
      "text/plain": [
       "{'deer': 0,\n",
       " 'frog': 1,\n",
       " 'automobile': 2,\n",
       " 'dog': 3,\n",
       " 'truck': 4,\n",
       " 'bird': 5,\n",
       " 'cat': 6,\n",
       " 'ship': 7,\n",
       " 'horse': 8,\n",
       " 'airplane': 9}"
      ]
     },
     "execution_count": 6,
     "metadata": {},
     "output_type": "execute_result"
    }
   ],
   "source": [
    "ctoi"
   ]
  },
  {
   "cell_type": "code",
   "execution_count": 7,
   "id": "15b974c5",
   "metadata": {},
   "outputs": [],
   "source": [
    "class Mydataset(Dataset):\n",
    "    def __init__(self,path,transform=None):\n",
    "        super(Mydataset).__init__()\n",
    "        self.path=path\n",
    "        self.transform=transform\n",
    "        \n",
    "    def __len__(self):\n",
    "        return len(self.path)\n",
    "    \n",
    "    def __getitem__(self,idx):\n",
    "        img = self.path[idx]\n",
    "        label = img.split('/')[-2]\n",
    "        label = ctoi[label]\n",
    "        \n",
    "        img = cv2.imread(img)\n",
    "        img = cv2.cvtColor(img,cv2.COLOR_BGR2RGB)\n",
    "        \n",
    "        img = self.transform(image=img)['image']\n",
    "            \n",
    "        return img,label\n",
    "        \n",
    "        "
   ]
  },
  {
   "cell_type": "code",
   "execution_count": 8,
   "id": "6a6f009e",
   "metadata": {},
   "outputs": [],
   "source": [
    "def lite_save(state, epoch, save_dir, model):\n",
    "    os.makedirs(save_dir, exist_ok=True)\n",
    "    \n",
    "    target_path = f'{save_dir}/{state}.path.tar'\n",
    "    \n",
    "    with open(target_path, \"wb\") as f:\n",
    "        torch.save({\n",
    "                'epoch': epoch,\n",
    "                'model_state_dict': model.state_dict(),}, f)"
   ]
  },
  {
   "cell_type": "code",
   "execution_count": 9,
   "id": "a14c5677",
   "metadata": {},
   "outputs": [],
   "source": [
    "\n",
    "# learning rate scheduler -> StepLR || Cosine Annealing\n",
    "\n",
    "# optimzier Adam || AdamW || AadmP || AdamB ? \n",
    "\n",
    "# Regularizer -> 써보고"
   ]
  },
  {
   "cell_type": "code",
   "execution_count": 10,
   "id": "a24b2859",
   "metadata": {},
   "outputs": [],
   "source": [
    "def train(train_param):\n",
    "    res = {\n",
    "        'train_acc' :[],\n",
    "        'train_loss':[],\n",
    "        'val_loss':[],\n",
    "        'val_acc': []\n",
    "    }\n",
    "\n",
    "\n",
    "    trainloader = train_param['trainloader']\n",
    "    valloader = train_param['valloader']\n",
    "    model = train_param['model']\n",
    "    opt = train_param['opt']\n",
    "    criterion = train_param['criterion']\n",
    "    scheduler = train_param['scheduler']\n",
    "    SAVE_PATH = train_param['SAVE_PATH']\n",
    "    \n",
    "    \n",
    "    best_acc = 0\n",
    "    for epoch in range(epochs):\n",
    "        train_loss=0\n",
    "        train_acc=0 \n",
    "        train_size=0\n",
    "        loader_size = len(trainloader)\n",
    "        model.train()\n",
    "        for data in tqdm(trainloader):\n",
    "            x = data[0].to(device)\n",
    "            y = data[1].to(device)\n",
    "            train_size+=len(y)\n",
    "\n",
    "            opt.zero_grad()\n",
    "            output = model(x)\n",
    "            loss = criterion(output,y)\n",
    "            loss.backward()\n",
    "            opt.step()\n",
    "\n",
    "            _,output = output.max(1)\n",
    "            train_acc += (output==y).sum().item()\n",
    "            train_loss += loss.item()\n",
    "        scheduler.step()\n",
    "\n",
    "        train_acc /= train_size\n",
    "        train_loss /= loader_size\n",
    "        print(f'[{epoch+1}/{epochs}], train_acc={train_acc:.2f} train_loss={train_loss:.2f}')\n",
    "\n",
    "        val_acc =0\n",
    "        cnt = 0\n",
    "        val_loss=0\n",
    "        val_size=0\n",
    "        loader_size = len(valloader)\n",
    "        model.eval()\n",
    "        with torch.no_grad():\n",
    "            for data in tqdm(valloader):\n",
    "                x = data[0].to(device)\n",
    "                y = data[1].to(device)\n",
    "                val_size+=len(y)\n",
    "                output = model(x)\n",
    "                loss = criterion(output,y)\n",
    "                output = torch.argmax(output,1)\n",
    "                val_loss+=loss.item()\n",
    "                val_acc += (output==y).sum().item()\n",
    "\n",
    "        val_acc /= val_size\n",
    "        val_loss /= loader_size\n",
    "        print(f'val acc={val_acc}, val_los={val_loss}')\n",
    "        print(f'\\t Current valid Acc | BEST Acc: [{val_acc}| {best_acc}]')\n",
    "        if val_acc > best_acc:\n",
    "            print(f'\\t Best Acc changed [{best_acc} ---> {val_acc}]')\n",
    "            best_acc = val_acc\n",
    "\n",
    "            lite_save('best', epoch, SAVE_PATH, model)\n",
    "        lite_save('last', epoch, SAVE_PATH, model)\n",
    "\n",
    "        res['train_loss'].append(train_loss)\n",
    "        res['train_acc'].append(train_acc)\n",
    "        res['val_loss'].append(val_loss)\n",
    "        res['val_acc'].append(val_acc)\n",
    "        \n",
    "        if train_loss < 0.01: break\n",
    "        \n",
    "    import pandas as pd    \n",
    "    pd.DataFrame(res).to_csv(SAVE_PATH+'/res.csv', index=False)\n"
   ]
  },
  {
   "cell_type": "code",
   "execution_count": 11,
   "id": "9037c779",
   "metadata": {},
   "outputs": [],
   "source": [
    "train_path = '/media/data2/rjsdn/dacon/basic_image_classification/train/'\n",
    "trainlist = [y for x in os.walk(train_path) for y in sorted(glob(os.path.join(x[0],'*.jpg')))]\n",
    "cv=KFold(n_splits=5,random_state=1120,shuffle=True)"
   ]
  },
  {
   "cell_type": "code",
   "execution_count": 12,
   "id": "fb13be7c",
   "metadata": {},
   "outputs": [
    {
     "data": {
      "text/plain": [
       "'/media/data2/rjsdn/dacon/basic_image_classification/train/truck/0000.jpg'"
      ]
     },
     "execution_count": 12,
     "metadata": {},
     "output_type": "execute_result"
    }
   ],
   "source": [
    "trainlist[20000]"
   ]
  },
  {
   "cell_type": "code",
   "execution_count": 13,
   "id": "b388d9d9",
   "metadata": {},
   "outputs": [],
   "source": [
    "BATCHSIZE=64\n",
    "lr=0.001\n",
    "device = torch.device('cuda:0')\n",
    "os.environ['CUDA_VISIBLE_DEVICES']='0'"
   ]
  },
  {
   "cell_type": "code",
   "execution_count": 30,
   "id": "27f77c99",
   "metadata": {
    "scrolled": true
   },
   "outputs": [
    {
     "name": "stderr",
     "output_type": "stream",
     "text": [
      "Clipping input data to the valid range for imshow with RGB data ([0..1] for floats or [0..255] for integers).\n"
     ]
    },
    {
     "name": "stdout",
     "output_type": "stream",
     "text": [
      "[ 1  2  3  4  5  6  8 10 11 12 13 14 15 16 17 18 19 21 22 23]\n"
     ]
    },
    {
     "data": {
      "text/plain": [
       "<matplotlib.image.AxesImage at 0x7efb7ea7a790>"
      ]
     },
     "execution_count": 30,
     "metadata": {},
     "output_type": "execute_result"
    },
    {
     "data": {
      "image/png": "[encoded data removed]",
      "text/plain": [
       "<Figure size 432x288 with 1 Axes>"
      ]
     },
     "metadata": {
      "needs_background": "light"
     },
     "output_type": "display_data"
    }
   ],
   "source": [
    "import matplotlib.pyplot as plt\n",
    "print(t[:20])\n",
    "plt.imshow(trainset[10000][0].numpy().transpose(1,2,0))"
   ]
  },
  {
   "cell_type": "code",
   "execution_count": 31,
   "id": "22d211ae",
   "metadata": {},
   "outputs": [
    {
     "name": "stdout",
     "output_type": "stream",
     "text": [
      "Fold : 1\n"
     ]
    },
    {
     "name": "stderr",
     "output_type": "stream",
     "text": [
      "100%|██████████| 625/625 [03:14<00:00,  3.22it/s]\n"
     ]
    },
    {
     "name": "stdout",
     "output_type": "stream",
     "text": [
      "[1/200], train_acc=0.39 train_loss=1.79\n"
     ]
    },
    {
     "name": "stderr",
     "output_type": "stream",
     "text": [
      "100%|██████████| 157/157 [00:13<00:00, 11.49it/s]\n"
     ]
    },
    {
     "name": "stdout",
     "output_type": "stream",
     "text": [
      "val acc=0.5222, val_los=1.3435832057029578\n",
      "\t Current valid Acc | BEST Acc: [0.5222| 0]\n",
      "\t Best Acc changed [0 ---> 0.5222]\n"
     ]
    },
    {
     "name": "stderr",
     "output_type": "stream",
     "text": [
      " 38%|███▊      | 235/625 [01:12<02:02,  3.19it/s]Exception ignored in: <function _MultiProcessingDataLoaderIter.__del__ at 0x7efb94d5fef0>\n",
      "Traceback (most recent call last):\n",
      "  File \"/home/rjsdn/.conda/envs/vision/lib/python3.7/site-packages/torch/utils/data/dataloader.py\", line 1328, in __del__\n",
      "    self._shutdown_workers()\n",
      "  File \"/home/rjsdn/.conda/envs/vision/lib/python3.7/site-packages/torch/utils/data/dataloader.py\", line 1301, in _shutdown_workers\n",
      "    w.join(timeout=_utils.MP_STATUS_CHECK_INTERVAL)\n",
      "  File \"/home/rjsdn/.conda/envs/vision/lib/python3.7/multiprocessing/process.py\", line 140, in join\n",
      "    res = self._popen.wait(timeout)\n",
      "  File \"/home/rjsdn/.conda/envs/vision/lib/python3.7/multiprocessing/popen_fork.py\", line 45, in wait\n",
      "    if not wait([self.sentinel], timeout):\n",
      "  File \"/home/rjsdn/.conda/envs/vision/lib/python3.7/multiprocessing/connection.py\", line 921, in wait\n",
      "    ready = selector.select(timeout)\n",
      "  File \"/home/rjsdn/.conda/envs/vision/lib/python3.7/selectors.py\", line 415, in select\n",
      "    fd_event_list = self._selector.poll(timeout)\n",
      "KeyboardInterrupt: \n",
      " 38%|███▊      | 235/625 [01:12<02:00,  3.23it/s]\n"
     ]
    },
    {
     "ename": "KeyboardInterrupt",
     "evalue": "",
     "output_type": "error",
     "traceback": [
      "\u001b[0;31m---------------------------------------------------------------------------\u001b[0m",
      "\u001b[0;31mKeyboardInterrupt\u001b[0m                         Traceback (most recent call last)",
      "\u001b[0;32m/tmp/ipykernel_15483/1541478995.py\u001b[0m in \u001b[0;36m<module>\u001b[0;34m\u001b[0m\n\u001b[1;32m     33\u001b[0m     }\n\u001b[1;32m     34\u001b[0m \u001b[0;34m\u001b[0m\u001b[0m\n\u001b[0;32m---> 35\u001b[0;31m     \u001b[0mtrain\u001b[0m\u001b[0;34m(\u001b[0m\u001b[0mtrain_param\u001b[0m\u001b[0;34m)\u001b[0m\u001b[0;34m\u001b[0m\u001b[0;34m\u001b[0m\u001b[0m\n\u001b[0m\u001b[1;32m     36\u001b[0m \u001b[0;34m\u001b[0m\u001b[0m\n",
      "\u001b[0;32m/tmp/ipykernel_15483/843417020.py\u001b[0m in \u001b[0;36mtrain\u001b[0;34m(train_param)\u001b[0m\n\u001b[1;32m     33\u001b[0m             \u001b[0mloss\u001b[0m \u001b[0;34m=\u001b[0m \u001b[0mcriterion\u001b[0m\u001b[0;34m(\u001b[0m\u001b[0moutput\u001b[0m\u001b[0;34m,\u001b[0m\u001b[0my\u001b[0m\u001b[0;34m)\u001b[0m\u001b[0;34m\u001b[0m\u001b[0;34m\u001b[0m\u001b[0m\n\u001b[1;32m     34\u001b[0m             \u001b[0mloss\u001b[0m\u001b[0;34m.\u001b[0m\u001b[0mbackward\u001b[0m\u001b[0;34m(\u001b[0m\u001b[0;34m)\u001b[0m\u001b[0;34m\u001b[0m\u001b[0;34m\u001b[0m\u001b[0m\n\u001b[0;32m---> 35\u001b[0;31m             \u001b[0mopt\u001b[0m\u001b[0;34m.\u001b[0m\u001b[0mstep\u001b[0m\u001b[0;34m(\u001b[0m\u001b[0;34m)\u001b[0m\u001b[0;34m\u001b[0m\u001b[0;34m\u001b[0m\u001b[0m\n\u001b[0m\u001b[1;32m     36\u001b[0m \u001b[0;34m\u001b[0m\u001b[0m\n\u001b[1;32m     37\u001b[0m             \u001b[0m_\u001b[0m\u001b[0;34m,\u001b[0m\u001b[0moutput\u001b[0m \u001b[0;34m=\u001b[0m \u001b[0moutput\u001b[0m\u001b[0;34m.\u001b[0m\u001b[0mmax\u001b[0m\u001b[0;34m(\u001b[0m\u001b[0;36m1\u001b[0m\u001b[0;34m)\u001b[0m\u001b[0;34m\u001b[0m\u001b[0;34m\u001b[0m\u001b[0m\n",
      "\u001b[0;32m~/.conda/envs/vision/lib/python3.7/site-packages/torch/optim/lr_scheduler.py\u001b[0m in \u001b[0;36mwrapper\u001b[0;34m(*args, **kwargs)\u001b[0m\n\u001b[1;32m     63\u001b[0m                 \u001b[0minstance\u001b[0m\u001b[0;34m.\u001b[0m\u001b[0m_step_count\u001b[0m \u001b[0;34m+=\u001b[0m \u001b[0;36m1\u001b[0m\u001b[0;34m\u001b[0m\u001b[0;34m\u001b[0m\u001b[0m\n\u001b[1;32m     64\u001b[0m                 \u001b[0mwrapped\u001b[0m \u001b[0;34m=\u001b[0m \u001b[0mfunc\u001b[0m\u001b[0;34m.\u001b[0m\u001b[0m__get__\u001b[0m\u001b[0;34m(\u001b[0m\u001b[0minstance\u001b[0m\u001b[0;34m,\u001b[0m \u001b[0mcls\u001b[0m\u001b[0;34m)\u001b[0m\u001b[0;34m\u001b[0m\u001b[0;34m\u001b[0m\u001b[0m\n\u001b[0;32m---> 65\u001b[0;31m                 \u001b[0;32mreturn\u001b[0m \u001b[0mwrapped\u001b[0m\u001b[0;34m(\u001b[0m\u001b[0;34m*\u001b[0m\u001b[0margs\u001b[0m\u001b[0;34m,\u001b[0m \u001b[0;34m**\u001b[0m\u001b[0mkwargs\u001b[0m\u001b[0;34m)\u001b[0m\u001b[0;34m\u001b[0m\u001b[0;34m\u001b[0m\u001b[0m\n\u001b[0m\u001b[1;32m     66\u001b[0m \u001b[0;34m\u001b[0m\u001b[0m\n\u001b[1;32m     67\u001b[0m             \u001b[0;31m# Note that the returned function here is no longer a bound method,\u001b[0m\u001b[0;34m\u001b[0m\u001b[0;34m\u001b[0m\u001b[0;34m\u001b[0m\u001b[0m\n",
      "\u001b[0;32m~/.conda/envs/vision/lib/python3.7/site-packages/torch/optim/optimizer.py\u001b[0m in \u001b[0;36mwrapper\u001b[0;34m(*args, **kwargs)\u001b[0m\n\u001b[1;32m     86\u001b[0m                 \u001b[0mprofile_name\u001b[0m \u001b[0;34m=\u001b[0m \u001b[0;34m\"Optimizer.step#{}.step\"\u001b[0m\u001b[0;34m.\u001b[0m\u001b[0mformat\u001b[0m\u001b[0;34m(\u001b[0m\u001b[0mobj\u001b[0m\u001b[0;34m.\u001b[0m\u001b[0m__class__\u001b[0m\u001b[0;34m.\u001b[0m\u001b[0m__name__\u001b[0m\u001b[0;34m)\u001b[0m\u001b[0;34m\u001b[0m\u001b[0;34m\u001b[0m\u001b[0m\n\u001b[1;32m     87\u001b[0m                 \u001b[0;32mwith\u001b[0m \u001b[0mtorch\u001b[0m\u001b[0;34m.\u001b[0m\u001b[0mautograd\u001b[0m\u001b[0;34m.\u001b[0m\u001b[0mprofiler\u001b[0m\u001b[0;34m.\u001b[0m\u001b[0mrecord_function\u001b[0m\u001b[0;34m(\u001b[0m\u001b[0mprofile_name\u001b[0m\u001b[0;34m)\u001b[0m\u001b[0;34m:\u001b[0m\u001b[0;34m\u001b[0m\u001b[0;34m\u001b[0m\u001b[0m\n\u001b[0;32m---> 88\u001b[0;31m                     \u001b[0;32mreturn\u001b[0m \u001b[0mfunc\u001b[0m\u001b[0;34m(\u001b[0m\u001b[0;34m*\u001b[0m\u001b[0margs\u001b[0m\u001b[0;34m,\u001b[0m \u001b[0;34m**\u001b[0m\u001b[0mkwargs\u001b[0m\u001b[0;34m)\u001b[0m\u001b[0;34m\u001b[0m\u001b[0;34m\u001b[0m\u001b[0m\n\u001b[0m\u001b[1;32m     89\u001b[0m             \u001b[0;32mreturn\u001b[0m \u001b[0mwrapper\u001b[0m\u001b[0;34m\u001b[0m\u001b[0;34m\u001b[0m\u001b[0m\n\u001b[1;32m     90\u001b[0m \u001b[0;34m\u001b[0m\u001b[0m\n",
      "\u001b[0;32m~/.conda/envs/vision/lib/python3.7/site-packages/torch/autograd/grad_mode.py\u001b[0m in \u001b[0;36mdecorate_context\u001b[0;34m(*args, **kwargs)\u001b[0m\n\u001b[1;32m     26\u001b[0m         \u001b[0;32mdef\u001b[0m \u001b[0mdecorate_context\u001b[0m\u001b[0;34m(\u001b[0m\u001b[0;34m*\u001b[0m\u001b[0margs\u001b[0m\u001b[0;34m,\u001b[0m \u001b[0;34m**\u001b[0m\u001b[0mkwargs\u001b[0m\u001b[0;34m)\u001b[0m\u001b[0;34m:\u001b[0m\u001b[0;34m\u001b[0m\u001b[0;34m\u001b[0m\u001b[0m\n\u001b[1;32m     27\u001b[0m             \u001b[0;32mwith\u001b[0m \u001b[0mself\u001b[0m\u001b[0;34m.\u001b[0m\u001b[0m__class__\u001b[0m\u001b[0;34m(\u001b[0m\u001b[0;34m)\u001b[0m\u001b[0;34m:\u001b[0m\u001b[0;34m\u001b[0m\u001b[0;34m\u001b[0m\u001b[0m\n\u001b[0;32m---> 28\u001b[0;31m                 \u001b[0;32mreturn\u001b[0m \u001b[0mfunc\u001b[0m\u001b[0;34m(\u001b[0m\u001b[0;34m*\u001b[0m\u001b[0margs\u001b[0m\u001b[0;34m,\u001b[0m \u001b[0;34m**\u001b[0m\u001b[0mkwargs\u001b[0m\u001b[0;34m)\u001b[0m\u001b[0;34m\u001b[0m\u001b[0;34m\u001b[0m\u001b[0m\n\u001b[0m\u001b[1;32m     29\u001b[0m         \u001b[0;32mreturn\u001b[0m \u001b[0mcast\u001b[0m\u001b[0;34m(\u001b[0m\u001b[0mF\u001b[0m\u001b[0;34m,\u001b[0m \u001b[0mdecorate_context\u001b[0m\u001b[0;34m)\u001b[0m\u001b[0;34m\u001b[0m\u001b[0;34m\u001b[0m\u001b[0m\n\u001b[1;32m     30\u001b[0m \u001b[0;34m\u001b[0m\u001b[0m\n",
      "\u001b[0;32m~/.conda/envs/vision/lib/python3.7/site-packages/torch/optim/adam.py\u001b[0m in \u001b[0;36mstep\u001b[0;34m(self, closure)\u001b[0m\n\u001b[1;32m    142\u001b[0m                    \u001b[0mlr\u001b[0m\u001b[0;34m=\u001b[0m\u001b[0mgroup\u001b[0m\u001b[0;34m[\u001b[0m\u001b[0;34m'lr'\u001b[0m\u001b[0;34m]\u001b[0m\u001b[0;34m,\u001b[0m\u001b[0;34m\u001b[0m\u001b[0;34m\u001b[0m\u001b[0m\n\u001b[1;32m    143\u001b[0m                    \u001b[0mweight_decay\u001b[0m\u001b[0;34m=\u001b[0m\u001b[0mgroup\u001b[0m\u001b[0;34m[\u001b[0m\u001b[0;34m'weight_decay'\u001b[0m\u001b[0;34m]\u001b[0m\u001b[0;34m,\u001b[0m\u001b[0;34m\u001b[0m\u001b[0;34m\u001b[0m\u001b[0m\n\u001b[0;32m--> 144\u001b[0;31m                    eps=group['eps'])\n\u001b[0m\u001b[1;32m    145\u001b[0m         \u001b[0;32mreturn\u001b[0m \u001b[0mloss\u001b[0m\u001b[0;34m\u001b[0m\u001b[0;34m\u001b[0m\u001b[0m\n",
      "\u001b[0;32m~/.conda/envs/vision/lib/python3.7/site-packages/torch/optim/_functional.py\u001b[0m in \u001b[0;36madam\u001b[0;34m(params, grads, exp_avgs, exp_avg_sqs, max_exp_avg_sqs, state_steps, amsgrad, beta1, beta2, lr, weight_decay, eps)\u001b[0m\n\u001b[1;32m     84\u001b[0m \u001b[0;34m\u001b[0m\u001b[0m\n\u001b[1;32m     85\u001b[0m         \u001b[0;31m# Decay the first and second moment running average coefficient\u001b[0m\u001b[0;34m\u001b[0m\u001b[0;34m\u001b[0m\u001b[0;34m\u001b[0m\u001b[0m\n\u001b[0;32m---> 86\u001b[0;31m         \u001b[0mexp_avg\u001b[0m\u001b[0;34m.\u001b[0m\u001b[0mmul_\u001b[0m\u001b[0;34m(\u001b[0m\u001b[0mbeta1\u001b[0m\u001b[0;34m)\u001b[0m\u001b[0;34m.\u001b[0m\u001b[0madd_\u001b[0m\u001b[0;34m(\u001b[0m\u001b[0mgrad\u001b[0m\u001b[0;34m,\u001b[0m \u001b[0malpha\u001b[0m\u001b[0;34m=\u001b[0m\u001b[0;36m1\u001b[0m \u001b[0;34m-\u001b[0m \u001b[0mbeta1\u001b[0m\u001b[0;34m)\u001b[0m\u001b[0;34m\u001b[0m\u001b[0;34m\u001b[0m\u001b[0m\n\u001b[0m\u001b[1;32m     87\u001b[0m         \u001b[0mexp_avg_sq\u001b[0m\u001b[0;34m.\u001b[0m\u001b[0mmul_\u001b[0m\u001b[0;34m(\u001b[0m\u001b[0mbeta2\u001b[0m\u001b[0;34m)\u001b[0m\u001b[0;34m.\u001b[0m\u001b[0maddcmul_\u001b[0m\u001b[0;34m(\u001b[0m\u001b[0mgrad\u001b[0m\u001b[0;34m,\u001b[0m \u001b[0mgrad\u001b[0m\u001b[0;34m.\u001b[0m\u001b[0mconj\u001b[0m\u001b[0;34m(\u001b[0m\u001b[0;34m)\u001b[0m\u001b[0;34m,\u001b[0m \u001b[0mvalue\u001b[0m\u001b[0;34m=\u001b[0m\u001b[0;36m1\u001b[0m \u001b[0;34m-\u001b[0m \u001b[0mbeta2\u001b[0m\u001b[0;34m)\u001b[0m\u001b[0;34m\u001b[0m\u001b[0;34m\u001b[0m\u001b[0m\n\u001b[1;32m     88\u001b[0m         \u001b[0;32mif\u001b[0m \u001b[0mamsgrad\u001b[0m\u001b[0;34m:\u001b[0m\u001b[0;34m\u001b[0m\u001b[0;34m\u001b[0m\u001b[0m\n",
      "\u001b[0;31mKeyboardInterrupt\u001b[0m: "
     ]
    }
   ],
   "source": [
    "idx=0\n",
    "epochs=200\n",
    "random.shuffle(trainlist)\n",
    "for t,v in cv.split(trainlist):\n",
    "    idx+=1\n",
    "    print('Fold :',idx)\n",
    "    trainset = Mydataset(trainlist,transform)\n",
    "    valset = Mydataset(trainlist,valt)\n",
    "    \n",
    "    trainloader = DataLoader(trainset,batch_size=BATCHSIZE,num_workers=4,sampler=t)\n",
    "    valloader = DataLoader(valset,batch_size=BATCHSIZE,num_workers=4,sampler=v)\n",
    "    \n",
    "    model_name = 'efficientnet_b1'\n",
    "    \n",
    "    model=timm.create_model(model_name,num_classes=10)   # Efficient-noisystudent\n",
    "    model.to(device)\n",
    "    criterion=nn.CrossEntropyLoss()\n",
    "    opt = optim.Adam(model.parameters(),lr=lr)\n",
    "    scheduler = optim.lr_scheduler.CosineAnnealingLR(opt,T_max=epochs,eta_min=lr/1e-2)\n",
    "    \n",
    "    MODEL=f'{model_name}_224_124_{idx}'\n",
    "    SAVE_PATH = f'weights/{MODEL}/'\n",
    "    os.makedirs(SAVE_PATH,exist_ok=True)\n",
    "    \n",
    "    train_param={\n",
    "        'trainloader':trainloader,\n",
    "        'valloader':valloader,\n",
    "        'model':model,\n",
    "        'opt':opt,\n",
    "        'criterion':criterion,\n",
    "        'scheduler':scheduler,\n",
    "        'SAVE_PATH':SAVE_PATH\n",
    "    }\n",
    "    \n",
    "    train(train_param)\n",
    "    "
   ]
  },
  {
   "cell_type": "code",
   "execution_count": null,
   "id": "a65be55b",
   "metadata": {},
   "outputs": [],
   "source": []
  }
 ],
 "metadata": {
  "kernelspec": {
   "display_name": "Python 3 (ipykernel)",
   "language": "python",
   "name": "python3"
  },
  "language_info": {
   "codemirror_mode": {
    "name": "ipython",
    "version": 3
   },
   "file_extension": ".py",
   "mimetype": "text/x-python",
   "name": "python",
   "nbconvert_exporter": "python",
   "pygments_lexer": "ipython3",
   "version": "3.7.11"
  }
 },
 "nbformat": 4,
 "nbformat_minor": 5
}
