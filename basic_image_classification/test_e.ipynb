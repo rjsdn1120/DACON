{
 "cells": [
  {
   "cell_type": "code",
   "execution_count": 1,
   "id": "f2a156a8",
   "metadata": {},
   "outputs": [],
   "source": [
    "import torch\n",
    "import torchvision\n",
    "from torch.utils.data import DataLoader, Dataset\n",
    "from torchvision.datasets import *\n",
    "import numpy as np\n",
    "import random\n",
    "import torchvision.transforms as transforms\n",
    "import torch.nn as nn\n",
    "from tqdm import tqdm\n",
    "import albumentations as A\n",
    "from albumentations.pytorch import ToTensorV2\n",
    "import cv2\n",
    "import timm\n",
    "import os"
   ]
  },
  {
   "cell_type": "code",
   "execution_count": 2,
   "id": "e61a6bd1",
   "metadata": {},
   "outputs": [],
   "source": [
    "class CustomDataset(Dataset):\n",
    "    def __init__(self, path, transform):\n",
    "        self.path = path\n",
    "        self.transform = transform                \n",
    "        \n",
    "    def __len__(self):\n",
    "        return len(self.path)\n",
    "    \n",
    "    def __getitem__(self, idx):\n",
    "        file = self.path[idx]\n",
    "        \n",
    "        image = cv2.imread(file)\n",
    "        image = cv2.cvtColor(image, cv2.COLOR_BGR2RGB)\n",
    "        \n",
    "        transformed = self.transform(image=image)['image']\n",
    "        \n",
    "        return transformed"
   ]
  },
  {
   "cell_type": "code",
   "execution_count": 3,
   "id": "6109c3f3",
   "metadata": {},
   "outputs": [],
   "source": [
    "# transform = transforms.Compose([\n",
    "#     transforms.Resize((224,224)),\n",
    "#     transforms.GaussianBlur(7),\n",
    "#     transforms.RandomHorizontalFlip(p=0.2),\n",
    "#     transforms.RandomVerticalFlip(p=0.2),\n",
    "#     transforms.ToTensor(),\n",
    "#     transforms.Normalize((0.5,0.5,0.5),(0.224,0.224,0.224))\n",
    "# ])\n",
    "\n",
    "\n",
    "transform = A.Compose([\n",
    "    A.Resize(224,224),\n",
    "#     A.GaussNoise(p=0.1),\n",
    "#     A.HorizontalFlip(p=0.2),\n",
    "#     A.ColorJitter(),\n",
    "    A.Normalize(),\n",
    "    ToTensorV2(),\n",
    "])\n",
    "valt=A.Compose([\n",
    "  A.Resize(224,224),\n",
    "    A.Normalize(),\n",
    "    ToTensorV2(),\n",
    "])\n",
    "\n",
    "# RandomResizeCrop\n",
    "# Random GaussianNoise\n",
    "# color jitter -> b/s/h/c  0.2 ~ 3  ||  128\n",
    "# RandomHorzital"
   ]
  },
  {
   "cell_type": "code",
   "execution_count": 4,
   "id": "25b1baac",
   "metadata": {
    "scrolled": true
   },
   "outputs": [
    {
     "data": {
      "text/plain": [
       "{'deer': 0,\n",
       " 'frog': 1,\n",
       " 'automobile': 2,\n",
       " 'dog': 3,\n",
       " 'truck': 4,\n",
       " 'bird': 5,\n",
       " 'cat': 6,\n",
       " 'ship': 7,\n",
       " 'horse': 8,\n",
       " 'airplane': 9}"
      ]
     },
     "execution_count": 4,
     "metadata": {},
     "output_type": "execute_result"
    }
   ],
   "source": [
    "cnt=0\n",
    "ctoi={k : idx for idx,k in enumerate(os.listdir('/media/data2/rjsdn/dacon/basic_image_classification/train'))}\n",
    "itoc = {v: k for k, v in ctoi.items()}\n",
    "ctoi"
   ]
  },
  {
   "cell_type": "code",
   "execution_count": 5,
   "id": "551861ec",
   "metadata": {},
   "outputs": [],
   "source": [
    "test_path = '/media/data2/rjsdn/dacon/basic_image_classification/test/'\n",
    "\n",
    "testset = [test_path+x for x in sorted(os.listdir(test_path))]\n",
    "test = CustomDataset(testset,transform=valt)\n"
   ]
  },
  {
   "cell_type": "code",
   "execution_count": 6,
   "id": "b042700f",
   "metadata": {},
   "outputs": [],
   "source": [
    "testloader = DataLoader(test,batch_size=128,num_workers=4)"
   ]
  },
  {
   "cell_type": "code",
   "execution_count": 7,
   "id": "e227268b",
   "metadata": {},
   "outputs": [],
   "source": [
    "e_num=2\n",
    "model_name = 'resnet34'"
   ]
  },
  {
   "cell_type": "code",
   "execution_count": null,
   "id": "71cac95d",
   "metadata": {},
   "outputs": [],
   "source": [
    "names=['weights/resnet18_224_123/','weights/Eb1_224_123/']\n",
    "model_names=['resnet18','efficientnet_b1']"
   ]
  },
  {
   "cell_type": "code",
   "execution_count": null,
   "id": "f526e05b",
   "metadata": {},
   "outputs": [],
   "source": [
    "models = []\n",
    "for i in range(e_num):\n",
    "#     model = timm.create_model(model_name,num_classes=10)\n",
    "    model = timm.create_model(model_names[i],num_classes=10)\n",
    "#     model.load_state_dict(torch.load(f'weights/resnet34_224_a_{i+1}/best.path.tar')['model_state_dict'])\n",
    "    model.load_state_dict(torch.load(f'weights/{names[i]}/best.path.tar')['model_state_dict'])\n",
    "    model.cuda();model.eval()\n",
    "    models.append(model)"
   ]
  },
  {
   "cell_type": "code",
   "execution_count": null,
   "id": "359e2cf2",
   "metadata": {},
   "outputs": [],
   "source": [
    "pred=[]\n",
    "with torch.no_grad():        \n",
    "    for data in tqdm(testloader):\n",
    "        x = data.cuda()\n",
    "        tmp = None\n",
    "        soft=0\n",
    "        for model in models:\n",
    "            output = model(x)\n",
    "            if tmp!=None:\n",
    "                soft = torch.sum(tmp,output)\n",
    "            else:\n",
    "                soft = output\n",
    "        \n",
    "        output = torch.argmax(soft,1)\n",
    "        ans = [itoc[x.item()] for x in output]\n",
    "        pred=np.append(pred,ans)"
   ]
  },
  {
   "cell_type": "code",
   "execution_count": null,
   "id": "68c0816d",
   "metadata": {},
   "outputs": [],
   "source": [
    "import pandas as pd\n",
    "\n",
    "ss = pd.read_csv('/media/data2/rjsdn/dacon/basic_image_classification/sample_submission.csv')\n",
    "ss.target=pred\n",
    "ss.to_csv('sub.csv',index=False)"
   ]
  },
  {
   "cell_type": "code",
   "execution_count": null,
   "id": "48feaff0",
   "metadata": {},
   "outputs": [],
   "source": []
  }
 ],
 "metadata": {
  "kernelspec": {
   "display_name": "Python 3 (ipykernel)",
   "language": "python",
   "name": "python3"
  },
  "language_info": {
   "codemirror_mode": {
    "name": "ipython",
    "version": 3
   },
   "file_extension": ".py",
   "mimetype": "text/x-python",
   "name": "python",
   "nbconvert_exporter": "python",
   "pygments_lexer": "ipython3",
   "version": "3.7.11"
  }
 },
 "nbformat": 4,
 "nbformat_minor": 5
}
